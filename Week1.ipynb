{
  "nbformat": 4,
  "nbformat_minor": 0,
  "metadata": {
    "colab": {
      "name": "Week1.ipynb",
      "provenance": [],
      "collapsed_sections": [],
      "authorship_tag": "ABX9TyOQe7hiA3Qc1KeP7csc1Q7F",
      "include_colab_link": true
    },
    "kernelspec": {
      "name": "python3",
      "display_name": "Python 3"
    }
  },
  "cells": [
    {
      "cell_type": "markdown",
      "metadata": {
        "id": "view-in-github",
        "colab_type": "text"
      },
      "source": [
        "<a href=\"https://colab.research.google.com/github/thirumal97/machinelearningRegression/blob/main/Week1.ipynb\" target=\"_parent\"><img src=\"https://colab.research.google.com/assets/colab-badge.svg\" alt=\"Open In Colab\"/></a>"
      ]
    },
    {
      "cell_type": "code",
      "metadata": {
        "id": "DD7arw5tpAj5"
      },
      "source": [
        "import pandas as pd\n",
        "import zipfile\n",
        "!pip install turicreate"
      ],
      "execution_count": null,
      "outputs": []
    },
    {
      "cell_type": "code",
      "metadata": {
        "id": "dmpgUGZ-pFSs"
      },
      "source": [
        "#crime_rate = pd.read_csv('Philadelphia_Crime_Rate.csv',sep=',',header = None)\n",
        "#import turicreate\n",
        "#crime_rate = turicreate.SFrame.read_csv('Philadeplhia_Crime_Rate.csv/')\n",
        "test_data = pd.read_csv('kc_house_test_data.csv')\n",
        "train_data = pd.read_csv('kc_house_train_data.csv')\n",
        "full_data = pd.read_csv('kc_house_data.csv')"
      ],
      "execution_count": 2,
      "outputs": []
    },
    {
      "cell_type": "code",
      "metadata": {
        "id": "LWBCzRMSpkHw"
      },
      "source": [
        "train_data"
      ],
      "execution_count": null,
      "outputs": []
    },
    {
      "cell_type": "code",
      "metadata": {
        "id": "U-KXuK2HqQBy"
      },
      "source": [
        "\n",
        "dtype_dict = {'bathrooms':float, 'waterfront':int, 'sqft_above':int, 'sqft_living15':float, 'grade':int, 'yr_renovated':int, 'price':float, 'bedrooms':float, 'zipcode':str, 'long':float, 'sqft_lot15':float, 'sqft_living':float, 'floors':str, 'condition':int, 'lat':float, 'date':str, 'sqft_basement':int, 'yr_built':int, 'id':str, 'sqft_lot':int, 'view':int}\n"
      ],
      "execution_count": 12,
      "outputs": []
    },
    {
      "cell_type": "code",
      "metadata": {
        "id": "QGqlsuzYimrp",
        "outputId": "f5ba0f7a-772d-4af5-c45d-6db6482fd9cc",
        "colab": {
          "base_uri": "https://localhost:8080/"
        }
      },
      "source": [
        "train_data.astype(dtype_dict)\n",
        "train_data.dtypes"
      ],
      "execution_count": 13,
      "outputs": [
        {
          "output_type": "execute_result",
          "data": {
            "text/plain": [
              "id                 int64\n",
              "date              object\n",
              "price            float64\n",
              "bedrooms           int64\n",
              "bathrooms        float64\n",
              "sqft_living        int64\n",
              "sqft_lot           int64\n",
              "floors           float64\n",
              "waterfront         int64\n",
              "view               int64\n",
              "condition          int64\n",
              "grade              int64\n",
              "sqft_above         int64\n",
              "sqft_basement      int64\n",
              "yr_built           int64\n",
              "yr_renovated       int64\n",
              "zipcode            int64\n",
              "lat              float64\n",
              "long             float64\n",
              "sqft_living15      int64\n",
              "sqft_lot15         int64\n",
              "dtype: object"
            ]
          },
          "metadata": {
            "tags": []
          },
          "execution_count": 13
        }
      ]
    },
    {
      "cell_type": "code",
      "metadata": {
        "id": "DAu3rJZ3oz_S"
      },
      "source": [
        "prices = train_data['price']\n",
        "num_houses = len(prices)\n",
        "sum_prices = prices.sum()"
      ],
      "execution_count": 17,
      "outputs": []
    },
    {
      "cell_type": "code",
      "metadata": {
        "id": "Xp9osnXSm4Su"
      },
      "source": [
        "def simple_linear_regression(input_feature, output):\n",
        "    # compute the sum of input_feature and output\n",
        "    num_houses = len(output)\n",
        "    input_feature_sum = input_feature.sum()\n",
        "    output_sum = output.sum()\n",
        "    \n",
        "    # compute the product of the output and the input_feature and its sum\n",
        "    prod = (input_feature*output)\n",
        "    prod_sum = prod.sum()\n",
        "    \n",
        "    # compute the squared value of the input_feature and its sum\n",
        "    squared = input_feature * input_feature\n",
        "    squared_sum = squared.sum()\n",
        "    # use the formula for the slope\n",
        "    numerator =  prod_sum - ((input_feature_sum*output_sum)/num_houses)\n",
        "    denominator = squared_sum - ((input_feature_sum*input_feature_sum)/num_houses)\n",
        "    slope = numerator / denominator\n",
        "    # use the formula for the intercept\n",
        "    intercept = (output_sum/num_houses) - (slope*(input_feature_sum/num_houses))\n",
        "    \n",
        "    return (intercept, slope)"
      ],
      "execution_count": 42,
      "outputs": []
    },
    {
      "cell_type": "code",
      "metadata": {
        "id": "GK1WTCumoVT2",
        "outputId": "b2015414-d890-4e8e-c497-66de29423107",
        "colab": {
          "base_uri": "https://localhost:8080/"
        }
      },
      "source": [
        "input_feature = train_data['sqft_living']\n",
        "output = train_data['price']\n",
        "intercept1 ,slope1 = simple_linear_regression(input_feature, output)\n",
        "print(\"intercept:\",intercept1,\", slope:\", slope1)"
      ],
      "execution_count": 69,
      "outputs": [
        {
          "output_type": "stream",
          "text": [
            "intercept: -47116.07907289418 , slope: 281.9588396303426\n"
          ],
          "name": "stdout"
        }
      ]
    },
    {
      "cell_type": "code",
      "metadata": {
        "id": "lUp5sMgUrrZi"
      },
      "source": [
        "def get_regression_predictions(input_feature, intercept, slope):\n",
        "    # calculate the predicted values:\n",
        "    \n",
        "    #for i in range((num_houses)):\n",
        "      #train_data['predicted_value'][i] = intercept + (slope)*(input_feature[i])\n",
        "       \n",
        "    #predicted_values = train_data['predicted_value']  \n",
        "    #return predicted_values\n",
        "\n",
        "    predicted_values = intercept + (slope) * input_feature\n",
        "    return predicted_values"
      ],
      "execution_count": 76,
      "outputs": []
    },
    {
      "cell_type": "code",
      "metadata": {
        "id": "tcup1vOvyb8n",
        "outputId": "6cd4c73a-6d22-40ce-8cf8-cdc95942f0e2",
        "colab": {
          "base_uri": "https://localhost:8080/"
        }
      },
      "source": [
        "input_feature = train_data['sqft_living']\n",
        "intercept = intercept1\n",
        "slope = slope1\n",
        "get_regression_predictions(input_feature, intercept, slope)"
      ],
      "execution_count": 77,
      "outputs": [
        {
          "output_type": "execute_result",
          "data": {
            "text/plain": [
              "0        285595.351691\n",
              "1        677518.138777\n",
              "2        169992.227442\n",
              "3        505523.246603\n",
              "4        426574.771506\n",
              "             ...      \n",
              "17379    942559.448030\n",
              "17380    322250.000843\n",
              "17381    384280.945562\n",
              "17382    404018.064336\n",
              "17383    240481.937350\n",
              "Name: sqft_living, Length: 17384, dtype: float64"
            ]
          },
          "metadata": {
            "tags": []
          },
          "execution_count": 77
        }
      ]
    },
    {
      "cell_type": "code",
      "metadata": {
        "id": "J1JhpYb-zNXj",
        "outputId": "c89a6ddc-222b-451d-ef5f-f59c986e67ef",
        "colab": {
          "base_uri": "https://localhost:8080/"
        }
      },
      "source": [
        "predicted_price = intercept1 + ((slope1)*(2650))\n",
        "predicted_price"
      ],
      "execution_count": 78,
      "outputs": [
        {
          "output_type": "execute_result",
          "data": {
            "text/plain": [
              "700074.8459475137"
            ]
          },
          "metadata": {
            "tags": []
          },
          "execution_count": 78
        }
      ]
    },
    {
      "cell_type": "code",
      "metadata": {
        "id": "erJuIogvLL-T"
      },
      "source": [
        "def get_residual_sum_of_squares(input_feature, output, intercept, slope):\n",
        "    # First get the predictions\n",
        "    pred = get_regression_predictions(input_feature,intercept,slope)\n",
        "\n",
        "\n",
        "    # then compute the residuals (since we are squaring it doesn't matter which order you subtract)\n",
        "    RSS = sum((output - pred)*(output - pred))\n",
        "    # square the residuals and add them up\n",
        "\n",
        "    return(RSS)"
      ],
      "execution_count": 79,
      "outputs": []
    },
    {
      "cell_type": "code",
      "metadata": {
        "id": "7dv9ZHIsOIYB",
        "outputId": "d705bfa9-f4bc-4fe1-fcd4-5487bcec7622",
        "colab": {
          "base_uri": "https://localhost:8080/"
        }
      },
      "source": [
        "get_residual_sum_of_squares(input_feature, output, intercept1,slope1)"
      ],
      "execution_count": 80,
      "outputs": [
        {
          "output_type": "execute_result",
          "data": {
            "text/plain": [
              "1201918354177286.2"
            ]
          },
          "metadata": {
            "tags": []
          },
          "execution_count": 80
        }
      ]
    },
    {
      "cell_type": "code",
      "metadata": {
        "id": "Wgp3C0zFOQGb"
      },
      "source": [
        "def inverse_regression_predictions(output, intercept, slope):\n",
        "    estimated_input = (output - intercept)/slope\n",
        "    return (estimated_input)"
      ],
      "execution_count": 81,
      "outputs": []
    },
    {
      "cell_type": "code",
      "metadata": {
        "id": "u2zkDx77QeRd",
        "outputId": "a49d0e12-de05-4c55-e0cd-17b3dbc39d42",
        "colab": {
          "base_uri": "https://localhost:8080/"
        }
      },
      "source": [
        "given_house_price = 800000\n",
        "inverse_regression_predictions(given_house_price, intercept, slope)"
      ],
      "execution_count": 82,
      "outputs": [
        {
          "output_type": "execute_result",
          "data": {
            "text/plain": [
              "3004.3962451522766"
            ]
          },
          "metadata": {
            "tags": []
          },
          "execution_count": 82
        }
      ]
    },
    {
      "cell_type": "code",
      "metadata": {
        "id": "xcRXudC2QzJp",
        "outputId": "1846a5f1-5c63-475a-8025-84f8072dd7ee",
        "colab": {
          "base_uri": "https://localhost:8080/"
        }
      },
      "source": [
        "new_input_feature = train_data['bedrooms']\n",
        "bedroom_intercept, bedroom_slope =simple_linear_regression(new_input_feature,output)\n",
        "print(bedroom_intercept, \" \", bedroom_slope)"
      ],
      "execution_count": 83,
      "outputs": [
        {
          "output_type": "stream",
          "text": [
            "109473.1776229596   127588.95293398784\n"
          ],
          "name": "stdout"
        }
      ]
    },
    {
      "cell_type": "code",
      "metadata": {
        "id": "bDsTUZQfRjjr",
        "outputId": "4ffae7cf-0638-40a0-87db-e789918b3402",
        "colab": {
          "base_uri": "https://localhost:8080/"
        }
      },
      "source": [
        "get_residual_sum_of_squares(test_data['sqft_living'], test_data['price'], intercept1, slope1)"
      ],
      "execution_count": 85,
      "outputs": [
        {
          "output_type": "execute_result",
          "data": {
            "text/plain": [
              "275402933617813.1"
            ]
          },
          "metadata": {
            "tags": []
          },
          "execution_count": 85
        }
      ]
    },
    {
      "cell_type": "code",
      "metadata": {
        "id": "ewoh9g6ySSFP",
        "outputId": "22791823-d3cd-447a-807e-2eb4bbc20b08",
        "colab": {
          "base_uri": "https://localhost:8080/"
        }
      },
      "source": [
        "get_residual_sum_of_squares(test_data['bedrooms'],test_data['price'],bedroom_intercept,bedroom_slope)"
      ],
      "execution_count": 86,
      "outputs": [
        {
          "output_type": "execute_result",
          "data": {
            "text/plain": [
              "493364585960301.4"
            ]
          },
          "metadata": {
            "tags": []
          },
          "execution_count": 86
        }
      ]
    },
    {
      "cell_type": "code",
      "metadata": {
        "id": "xBOujBb-StGK"
      },
      "source": [
        ""
      ],
      "execution_count": null,
      "outputs": []
    }
  ]
}